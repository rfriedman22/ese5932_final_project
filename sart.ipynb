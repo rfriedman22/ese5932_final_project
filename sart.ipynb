{
 "cells": [
  {
   "cell_type": "markdown",
   "metadata": {},
   "source": [
    "# SART\n",
    "In this notebook, we implement SART as a stationary method to reconstruct an image. This will provide a comparison to FISTA."
   ]
  },
  {
   "cell_type": "code",
   "execution_count": 1,
   "metadata": {},
   "outputs": [],
   "source": [
    "import os\n",
    "\n",
    "import matplotlib.pyplot as plt\n",
    "import numpy as np\n",
    "import scipy.io as scio\n",
    "from scipy import sparse\n",
    "\n",
    "import plot_utils"
   ]
  },
  {
   "cell_type": "code",
   "execution_count": 2,
   "metadata": {},
   "outputs": [],
   "source": [
    "plot_utils.set_print_params()"
   ]
  },
  {
   "cell_type": "markdown",
   "metadata": {},
   "source": [
    "This function is the implementation of the SART algorithm. Given a forward operator, some data (e.g. a sinogram), and an initial guess, use the SART algorithm to reconstruct the noisy image."
   ]
  },
  {
   "cell_type": "raw",
   "metadata": {},
   "source": [
    ":param operator: scipy.sparse.csr, [len(model_init), len(data)]\n",
    "    A sparse CSR matrix representation of the imaging operator.\n",
    ":param data: np.array\n",
    "    The measured data (e.g. sinogram) as a vector. If the data is input as a matrix, it will be flattened into a Fortran-optimized vector.\n",
    ":param model_init: np.array\n",
    "    Initial guess of the image as a vector.\n",
    ":param max_iter: int\n",
    "    Maximum number of SART iterations.\n",
    ":param omega: int\n",
    "    Omega hyperparameter for update steps.\n",
    ":param image_dims: (int, int)\n",
    "    Pixel dimensions for the reconstructed image.\n",
    "\n",
    ":return model: np.array\n",
    "    Matrix representation of the reconstructed image\n",
    ":return residual_norms: np.array\n",
    "    L2-norm of the model residual at each iteration\n",
    ":return fig: matplotlib.Figure\n",
    "    Handle to a figure with a plot showing the residual for every iteration"
   ]
  },
  {
   "cell_type": "code",
   "execution_count": 3,
   "metadata": {},
   "outputs": [],
   "source": [
    "def sart(operator, data, model_init, max_iter=1000, omega=1.0, image_dims=(256, 256)):\n",
    "    model = model_init\n",
    "    # Convert the data from a matrix to a vector if necessary\n",
    "    if len(data.shape) == 2:\n",
    "        data = data.flatten(order=\"F\")\n",
    "\n",
    "    residual = data\n",
    "    residual_norms = np.zeros(max_iter)\n",
    "\n",
    "    # Precompute X, the constant term for SART\n",
    "    # V is a sparse diagonal matrix corresponding to one over the row-sum of the operator\n",
    "    V = sparse.spdiags((1 / operator.sum(axis=0)), 0, len(model), len(model))\n",
    "    # W is a sparse diagonal matrix corresponding to one over the column-sum of the operator\n",
    "    W = sparse.spdiags((1 / operator.sum(axis=1)).T, 0, len(data), len(data))\n",
    "    X = omega * V * operator.T * W\n",
    "\n",
    "    # Reconstruct the image\n",
    "    for i in range(max_iter):\n",
    "        model = model + X * residual\n",
    "        residual = data - operator * model\n",
    "        residual_norms[i] = np.linalg.norm(residual)\n",
    "\n",
    "        # Report iteration history for logging\n",
    "        if (i + 1) % 50 == 0:\n",
    "            print(f\"Completed {i+1} iterations.\")\n",
    "\n",
    "    # Convert the final image to a matrix\n",
    "    model = model.reshape(image_dims, order=\"F\")\n",
    "\n",
    "    # Plot convergence history\n",
    "    fig, ax = plt.subplots(figsize=(8, 8))\n",
    "    ax.plot(np.arange(max_iter) + 1, residual_norms)\n",
    "    ax.set_xlabel(\"Iteration\")\n",
    "    ax.set_ylabel(\"Norm of residual\")\n",
    "\n",
    "    return model, residual_norms, fig"
   ]
  },
  {
   "cell_type": "markdown",
   "metadata": {},
   "source": [
    "Load in the data. Each dataset is represented by a 4-tuple with values as follows:\n",
    "* Name of the sinogram file in .mat format\n",
    "* Name of the imaging operator file\n",
    "* Prefix for outputting data"
   ]
  },
  {
   "cell_type": "code",
   "execution_count": 4,
   "metadata": {},
   "outputs": [],
   "source": [
    "data_dir = \"data\"\n",
    "results_dir = \"results\"\n",
    "# Tuples that are (sinogram file, sinogram variable name, imaging operator file, output prefix)\n",
    "datasets = [\n",
    "    (os.path.join(data_dir, \"sinogram90.mat\"),\n",
    "        os.path.join(data_dir, \"A90.mat\"),\n",
    "        os.path.join(results_dir, \"sart90\")),\n",
    "    (os.path.join(data_dir, \"sinogram270.mat\"),\n",
    "        os.path.join(data_dir, \"A270.mat\"),\n",
    "        os.path.join(results_dir, \"sart270\")),\n",
    "    (os.path.join(data_dir, \"sinogram540.mat\"),\n",
    "        os.path.join(data_dir, \"A540.mat\"),\n",
    "        os.path.join(results_dir, \"sartFull\")),\n",
    "]"
   ]
  },
  {
   "cell_type": "markdown",
   "metadata": {},
   "source": [
    "Run the algorithm for each image. Plot the convergence history and show the reconstructed image. Save the reconstructed image to a file for downstream quality assessment."
   ]
  },
  {
   "cell_type": "code",
   "execution_count": null,
   "metadata": {},
   "outputs": [
    {
     "name": "stdout",
     "output_type": "stream",
     "text": [
      "Running SART for results/sart90\n",
      "Completed 50 iterations.\n",
      "Completed 100 iterations.\n",
      "Completed 150 iterations.\n",
      "Completed 200 iterations.\n",
      "Running SART for results/sart270\n",
      "Completed 50 iterations.\n",
      "Completed 100 iterations.\n",
      "Completed 150 iterations.\n",
      "Completed 200 iterations.\n",
      "Running SART for results/sartFull\n"
     ]
    }
   ],
   "source": [
    "n_pixels = 256\n",
    "\n",
    "for sinogram, operator, out_prefix in datasets:\n",
    "    print(f\"Running SART for {out_prefix}\")\n",
    "    # Read in the sinogram\n",
    "    sinogram = scio.loadmat(sinogram)[\"sino\"]\n",
    "    sinogram = sinogram.flatten(order=\"F\")\n",
    "\n",
    "    # Read in the imaging operator and convert to CSR format\n",
    "    operator = scio.loadmat(operator)[\"A\"]\n",
    "    operator = operator.tocsr()\n",
    "\n",
    "    model_init = np.zeros(n_pixels**2)\n",
    "    model, residual_norms, fig = sart(operator, sinogram, model_init, max_iter=200)\n",
    "    fig.savefig(f\"{out_prefix}Residuals.png\")\n",
    "    # Show the reconstructed image\n",
    "    fig, ax = plt.subplots()\n",
    "    ax.imshow(model)\n",
    "    fig.savefig(f\"{out_prefix}Image.png\")\n",
    "\n",
    "    # Save the reconstruction to file\n",
    "    np.savetxt(f\"{out_prefix}Reconstruction.txt\", model, delimiter=\"\\t\", newline=\"\\n\")"
   ]
  }
 ],
 "metadata": {
  "kernelspec": {
   "display_name": "Python 3",
   "language": "python",
   "name": "python3"
  },
  "language_info": {
   "codemirror_mode": {
    "name": "ipython",
    "version": 3
   },
   "file_extension": ".py",
   "mimetype": "text/x-python",
   "name": "python",
   "nbconvert_exporter": "python",
   "pygments_lexer": "ipython3",
   "version": "3.6.10"
  }
 },
 "nbformat": 4,
 "nbformat_minor": 2
}
